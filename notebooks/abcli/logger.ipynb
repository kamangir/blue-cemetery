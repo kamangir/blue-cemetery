{
    "cells": [
        {
            "attachments": {},
            "cell_type": "markdown",
            "metadata": {},
            "source": [
                "# logger"
            ]
        },
        {
            "cell_type": "code",
            "execution_count": 1,
            "metadata": {},
            "outputs": [],
            "source": [
                "import os\n",
                "os.environ[\"abcli_path_bash\"] = \"{}/git/awesome-bash-cli/bash\".format(os.getenv(\"HOME\"))"
            ]
        },
        {
            "cell_type": "code",
            "execution_count": 2,
            "metadata": {},
            "outputs": [
                {
                    "name": "stderr",
                    "output_type": "stream",
                    "text": [
                        "📜  abcli-9.365.1\n"
                    ]
                }
            ],
            "source": [
                "from abcli import fullname\n",
                "from blue_options.logger import crash_report\n",
                "from blueflow.logger import logger\n",
                "\n",
                "logger.info(fullname())"
            ]
        },
        {
            "attachments": {},
            "cell_type": "markdown",
            "metadata": {},
            "source": [
                "---"
            ]
        },
        {
            "cell_type": "code",
            "execution_count": 3,
            "metadata": {},
            "outputs": [
                {
                    "name": "stderr",
                    "output_type": "stream",
                    "text": [
                        "📜  Hello World! 🪄\n"
                    ]
                }
            ],
            "source": [
                "logger.info(\"Hello World! 🪄\")"
            ]
        },
        {
            "cell_type": "code",
            "execution_count": 4,
            "metadata": {},
            "outputs": [
                {
                    "name": "stderr",
                    "output_type": "stream",
                    "text": [
                        "❗️ ::  crash: major failure.\n",
                        "Traceback (most recent call last):\n",
                        "  File \"/var/folders/zt/yvc9hx9x3txdbl3ny6bfz6qr0000gn/T/ipykernel_39144/2860441983.py\", line 2, in <module>\n",
                        "    void\n",
                        "NameError: name 'void' is not defined\n"
                    ]
                }
            ],
            "source": [
                "try:\n",
                "    void\n",
                "except:\n",
                "    crash_report(\"major failure.\")\n",
                "    pass\n"
            ]
        },
        {
            "attachments": {},
            "cell_type": "markdown",
            "metadata": {},
            "source": [
                "---"
            ]
        },
        {
            "cell_type": "code",
            "execution_count": 5,
            "metadata": {},
            "outputs": [],
            "source": [
                "# END"
            ]
        }
    ],
    "metadata": {
        "kernelspec": {
            "display_name": ".venv",
            "language": "python",
            "name": "python3"
        },
        "language_info": {
            "codemirror_mode": {
                "name": "ipython",
                "version": 3
            },
            "file_extension": ".py",
            "mimetype": "text/x-python",
            "name": "python",
            "nbconvert_exporter": "python",
            "pygments_lexer": "ipython3",
            "version": "3.9.6"
        },
        "toc": {
            "base_numbering": 1,
            "nav_menu": {},
            "number_sections": true,
            "sideBar": true,
            "skip_h1_title": false,
            "title_cell": "Table of Contents",
            "title_sidebar": "Contents",
            "toc_cell": false,
            "toc_position": {},
            "toc_section_display": true,
            "toc_window_display": false
        }
    },
    "nbformat": 4,
    "nbformat_minor": 2
}
